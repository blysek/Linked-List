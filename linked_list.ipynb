{
 "cells": [
  {
   "cell_type": "markdown",
   "metadata": {},
   "source": [
    "# Guide to Linked Lists"
   ]
  },
  {
   "cell_type": "code",
   "execution_count": 21,
   "metadata": {},
   "outputs": [],
   "source": [
    "# Linked List\n",
    "\n",
    "class LinkedList:\n",
    "    def __init__(self):\n",
    "        self.head = None\n",
    "    def __repr__(self):\n",
    "        node = self.head\n",
    "        nodes = []\n",
    "        while node is not None:\n",
    "            nodes.append(node.val)\n",
    "            node = node.next\n",
    "        nodes.append(\"None\")\n",
    "        return '->'.join(str(x) for x in nodes)\n",
    "        \n",
    "        \n",
    "class Node:\n",
    "    def __init__(self, val):\n",
    "        self.val = val\n",
    "        self.next = None\n",
    "        \n",
    "    def __repr__(self):\n",
    "        return self.val\n",
    "        \n",
    "\n",
    "        "
   ]
  },
  {
   "cell_type": "code",
   "execution_count": 22,
   "metadata": {},
   "outputs": [
    {
     "data": {
      "text/plain": [
       "a->None"
      ]
     },
     "execution_count": 22,
     "metadata": {},
     "output_type": "execute_result"
    }
   ],
   "source": [
    "l1 = LinkedList()\n",
    "first_node = Node('a')\n",
    "l1.head = first_node\n",
    "l1"
   ]
  },
  {
   "cell_type": "code",
   "execution_count": 23,
   "metadata": {},
   "outputs": [
    {
     "data": {
      "text/plain": [
       "a->b->c->None"
      ]
     },
     "execution_count": 23,
     "metadata": {},
     "output_type": "execute_result"
    }
   ],
   "source": [
    "second_node = Node('b')\n",
    "third_node = Node('c')\n",
    "\n",
    "first_node.next = second_node\n",
    "second_node.next = third_node\n",
    "\n",
    "l1"
   ]
  },
  {
   "cell_type": "code",
   "execution_count": 24,
   "metadata": {},
   "outputs": [],
   "source": [
    "#Updating code so making linked lists is quicker"
   ]
  },
  {
   "cell_type": "code",
   "execution_count": 38,
   "metadata": {},
   "outputs": [],
   "source": [
    "class LinkedList:\n",
    "    def __init__(self, nodes=None):\n",
    "        #pass a list of nodes (a list of values) and it will turn it into a linked list\n",
    "        self.head = None\n",
    "        if nodes is not None:\n",
    "            node = Node(val=nodes.pop(0)) #.pop(index) both returns the value of index and does an inplace removal of index\n",
    "            self.head = node\n",
    "            for elem in nodes:\n",
    "                node.next = Node(val=elem)\n",
    "                node = node.next\n",
    "\n",
    "    def __repr__(self):\n",
    "        node = self.head\n",
    "        nodes = []\n",
    "        while node is not None:\n",
    "            nodes.append(node.val)\n",
    "            node = node.next\n",
    "        nodes.append(\"None\")\n",
    "        return '->'.join(str(x) for x in nodes)\n",
    "        \n",
    "        \n",
    "class Node:\n",
    "    def __init__(self, val):\n",
    "        self.val = val\n",
    "        self.next = None\n",
    "        \n",
    "    def __repr__(self):\n",
    "        return self.val"
   ]
  },
  {
   "cell_type": "code",
   "execution_count": 40,
   "metadata": {},
   "outputs": [
    {
     "name": "stdout",
     "output_type": "stream",
     "text": [
      "a->b->c->d->e->None\n"
     ]
    },
    {
     "ename": "TypeError",
     "evalue": "'LinkedList' object is not iterable",
     "output_type": "error",
     "traceback": [
      "\u001b[0;31m---------------------------------------------------------------------------\u001b[0m",
      "\u001b[0;31mTypeError\u001b[0m                                 Traceback (most recent call last)",
      "\u001b[0;32m<ipython-input-40-656958637e13>\u001b[0m in \u001b[0;36m<module>\u001b[0;34m\u001b[0m\n\u001b[1;32m      2\u001b[0m \u001b[0mprint\u001b[0m\u001b[0;34m(\u001b[0m\u001b[0ml1\u001b[0m\u001b[0;34m)\u001b[0m\u001b[0;34m\u001b[0m\u001b[0;34m\u001b[0m\u001b[0m\n\u001b[1;32m      3\u001b[0m \u001b[0;34m\u001b[0m\u001b[0m\n\u001b[0;32m----> 4\u001b[0;31m \u001b[0;32mfor\u001b[0m \u001b[0mnode\u001b[0m \u001b[0;32min\u001b[0m \u001b[0ml1\u001b[0m\u001b[0;34m:\u001b[0m\u001b[0;34m\u001b[0m\u001b[0;34m\u001b[0m\u001b[0m\n\u001b[0m\u001b[1;32m      5\u001b[0m     \u001b[0mprint\u001b[0m\u001b[0;34m(\u001b[0m\u001b[0mnode\u001b[0m\u001b[0;34m)\u001b[0m\u001b[0;34m\u001b[0m\u001b[0;34m\u001b[0m\u001b[0m\n",
      "\u001b[0;31mTypeError\u001b[0m: 'LinkedList' object is not iterable"
     ]
    }
   ],
   "source": [
    "l1 = LinkedList([\"a\", \"b\", \"c\", \"d\", \"e\"])\n",
    "print(l1)\n",
    "\n",
    "for node in l1:\n",
    "    print(node)"
   ]
  },
  {
   "cell_type": "code",
   "execution_count": 28,
   "metadata": {},
   "outputs": [],
   "source": [
    "#updating code to traverse a linked list\n",
    "#go through every single node, starting with the head of the linked list and ending on the node that has \n",
    "#a next value of None"
   ]
  },
  {
   "cell_type": "code",
   "execution_count": 33,
   "metadata": {},
   "outputs": [],
   "source": [
    "class LinkedList:\n",
    "    def __init__(self, nodes=None):\n",
    "        #pass a list of nodes (a list of values) and it will turn it into a linked list\n",
    "        self.head = None\n",
    "        if nodes is not None:\n",
    "            node = Node(val=nodes.pop(0)) #.pop(index) both returns the value of index and does an inplace removal of index\n",
    "            self.head = node\n",
    "            for elem in nodes:\n",
    "                node.next = Node(val=elem)\n",
    "                node = node.next\n",
    "\n",
    "    def __repr__(self):\n",
    "        node = self.head\n",
    "        nodes = []\n",
    "        while node is not None:\n",
    "            nodes.append(node.val)\n",
    "            node = node.next\n",
    "        nodes.append(\"None\")\n",
    "        return '->'.join(str(x) for x in nodes)\n",
    "    def __iter__(self):\n",
    "        node = self.head\n",
    "        while node is not None:\n",
    "            yield node\n",
    "            node = node.next\n",
    "\n",
    "        \n",
    "        \n",
    "class Node:\n",
    "    def __init__(self, val):\n",
    "        self.val = val\n",
    "        self.next = None\n",
    "        \n",
    "    def __repr__(self):\n",
    "        return self.val"
   ]
  },
  {
   "cell_type": "code",
   "execution_count": 34,
   "metadata": {},
   "outputs": [
    {
     "data": {
      "text/plain": [
       "a->b->c->d->e->None"
      ]
     },
     "execution_count": 34,
     "metadata": {},
     "output_type": "execute_result"
    }
   ],
   "source": [
    "l1 = LinkedList([\"a\", \"b\", \"c\", \"d\", \"e\"])\n",
    "l1"
   ]
  },
  {
   "cell_type": "code",
   "execution_count": 57,
   "metadata": {},
   "outputs": [
    {
     "name": "stdout",
     "output_type": "stream",
     "text": [
      "c\n",
      "b\n"
     ]
    }
   ],
   "source": [
    "for node in l1:\n",
    "    print(node)"
   ]
  },
  {
   "cell_type": "code",
   "execution_count": 41,
   "metadata": {},
   "outputs": [],
   "source": [
    "#inserting a new node\n",
    "#theres different methods for inserting at the beginning or end or inbetween nodes\n",
    "\n",
    "#this plays a role in the difference between a queue and a stack (along with removing a node)"
   ]
  },
  {
   "cell_type": "code",
   "execution_count": 59,
   "metadata": {},
   "outputs": [],
   "source": [
    "class LinkedList:\n",
    "    def __init__(self, nodes=None):\n",
    "        #pass a list of nodes (a list of values) and it will turn it into a linked list\n",
    "        self.head = None\n",
    "        if nodes is not None:\n",
    "            node = Node(val=nodes.pop(0)) #.pop(index) both returns the value of index and does an inplace removal of index\n",
    "            self.head = node\n",
    "            for elem in nodes:\n",
    "                node.next = Node(val=elem)\n",
    "                node = node.next\n",
    "\n",
    "    def __repr__(self):\n",
    "        node = self.head\n",
    "        nodes = []\n",
    "        while node is not None:\n",
    "            nodes.append(node.val)\n",
    "            node = node.next\n",
    "        nodes.append(\"None\")\n",
    "        return \" -> \".join(str(x) for x in nodes)\n",
    "    \n",
    "    def __iter__(self):\n",
    "        node = self.head\n",
    "        while node is not None:\n",
    "            yield node\n",
    "            node = node.next\n",
    "    \n",
    "    def add_first(self, node): #the arg 'node' should be an instance of the Node() (the node class)\n",
    "        node.next = self.head #we are setting node.next to the old self.head (the head of the list before we did the adding)\n",
    "        self.head = node #we set the new self.head to the new node\n",
    "\n",
    "    def add_last(self, node):\n",
    "        #if the linked list is empty and we use this, it will assign node to self.head\n",
    "        if not self.head:\n",
    "            self.head = node\n",
    "            return\n",
    "        #we have to loop through the linked list to get to the end \n",
    "        for current_node in self:\n",
    "            pass\n",
    "        current_node.next = node #since we pass an instance of the Node class as an arg, the Node.next is automatically None\n",
    "        \n",
    "        \n",
    "class Node:\n",
    "    def __init__(self, val):\n",
    "        self.val = val\n",
    "        self.next = None\n",
    "        \n",
    "    def __repr__(self):\n",
    "        return self.val"
   ]
  },
  {
   "cell_type": "code",
   "execution_count": 60,
   "metadata": {},
   "outputs": [
    {
     "name": "stdout",
     "output_type": "stream",
     "text": [
      "None\n",
      "b -> None\n",
      "c -> b -> None\n"
     ]
    }
   ],
   "source": [
    "l1 = LinkedList()\n",
    "print(l1)\n",
    "\n",
    "l1.add_first(Node('b'))\n",
    "print(l1)\n",
    "\n",
    "l1.add_first(Node('c'))\n",
    "print(l1)"
   ]
  },
  {
   "cell_type": "code",
   "execution_count": 62,
   "metadata": {},
   "outputs": [
    {
     "name": "stdout",
     "output_type": "stream",
     "text": [
      "c -> b -> e -> None\n",
      "c -> b -> e -> e -> None\n"
     ]
    }
   ],
   "source": [
    "print(l1)\n",
    "l1.add_last(Node('e'))\n",
    "print(l1)"
   ]
  },
  {
   "cell_type": "code",
   "execution_count": 64,
   "metadata": {},
   "outputs": [],
   "source": [
    "#inserting inbetween nodes\n",
    "#could insert before or after"
   ]
  },
  {
   "cell_type": "code",
   "execution_count": 93,
   "metadata": {},
   "outputs": [],
   "source": [
    "class LinkedList:\n",
    "    def __init__(self, nodes=None):\n",
    "        #pass a list of nodes (a list of values) and it will turn it into a linked list\n",
    "        self.head = None\n",
    "        if nodes is not None:\n",
    "            node = Node(val=nodes.pop(0)) #.pop(index) both returns the value of index and does an inplace removal of index\n",
    "            self.head = node\n",
    "            for elem in nodes:\n",
    "                node.next = Node(val=elem)\n",
    "                node = node.next\n",
    "\n",
    "    def __repr__(self):\n",
    "        node = self.head\n",
    "        nodes = []\n",
    "        while node is not None:\n",
    "            nodes.append(node.val)\n",
    "            node = node.next\n",
    "        nodes.append(\"None\")\n",
    "        return \" -> \".join(str(x) for x in nodes)\n",
    "    \n",
    "    def __iter__(self):\n",
    "        node = self.head\n",
    "        while node is not None:\n",
    "            yield node\n",
    "            node = node.next\n",
    "    \n",
    "    def add_first(self, node): #the arg 'node' should be an instance of the Node() (the node class)\n",
    "        node.next = self.head #we are setting node.next to the old self.head (the head of the list before we did the adding)\n",
    "        self.head = node #we set the new self.head to the new node\n",
    "\n",
    "    def add_last(self, node):\n",
    "        #if the linked list is empty and we use this, it will assign node to self.head\n",
    "        if not self.head:\n",
    "            self.head = node\n",
    "            return\n",
    "        #we have to loop through the linked list to get to the end \n",
    "        for current_node in self:\n",
    "            pass\n",
    "        current_node.next = node #since we pass an instance of the Node class as an arg, the Node.next is automatically None\n",
    "    \n",
    "    def add_after(self, target_node_val, new_node):\n",
    "        if not self.head:\n",
    "            raise Exception(\"List is empty\")\n",
    "        for node in self:\n",
    "            if node.val == target_node_val:\n",
    "                new_node.next = node.next #set new_node.next to node.next (updating the .next for the new node)\n",
    "                node.next = new_node #setting the value for the node as new_node\n",
    "                return\n",
    "        \n",
    "        raise Exception(\"Node with value '%s' not found\" % target_node_val)\n",
    "        \n",
    "    def add_before(self, target_node_val, new_node):\n",
    "        if not self.head:\n",
    "            raise Exception(\"List is empty\")\n",
    "        \n",
    "        #if we are doing add_before on the head of a linked list, we can reuse add_first\n",
    "        if self.head.val == target_node_val:\n",
    "            return self.add_first(new_node)\n",
    "        \n",
    "        #we use prev_node so we can change the .next's when we find the target_node_val\n",
    "        prev_node = self.head\n",
    "        for node in self:\n",
    "            if node.val == target_node_val:\n",
    "                prev_node.next = new_node\n",
    "                new_node.next = node\n",
    "                return\n",
    "            prev_node = node\n",
    "            \n",
    "        raise Exception(\"Node with value '%s' not found\" % target_node_val)  \n",
    "        \n",
    "        \n",
    "        \n",
    "        \n",
    "class Node:\n",
    "    def __init__(self, val):\n",
    "        self.val = val\n",
    "        self.next = None\n",
    "        \n",
    "    def __repr__(self):\n",
    "        return self.val"
   ]
  },
  {
   "cell_type": "code",
   "execution_count": 94,
   "metadata": {},
   "outputs": [
    {
     "name": "stdout",
     "output_type": "stream",
     "text": [
      "a -> b -> c -> d -> None\n",
      "a -> b -> x -> c -> d -> None\n"
     ]
    },
    {
     "ename": "Exception",
     "evalue": "Node with value 'g' not found",
     "output_type": "error",
     "traceback": [
      "\u001b[0;31m---------------------------------------------------------------------------\u001b[0m",
      "\u001b[0;31mException\u001b[0m                                 Traceback (most recent call last)",
      "\u001b[0;32m<ipython-input-94-6aa14059dd20>\u001b[0m in \u001b[0;36m<module>\u001b[0;34m\u001b[0m\n\u001b[1;32m      4\u001b[0m \u001b[0mprint\u001b[0m\u001b[0;34m(\u001b[0m\u001b[0ml1\u001b[0m\u001b[0;34m)\u001b[0m\u001b[0;34m\u001b[0m\u001b[0;34m\u001b[0m\u001b[0m\n\u001b[1;32m      5\u001b[0m \u001b[0;34m\u001b[0m\u001b[0m\n\u001b[0;32m----> 6\u001b[0;31m \u001b[0ml1\u001b[0m\u001b[0;34m.\u001b[0m\u001b[0madd_after\u001b[0m\u001b[0;34m(\u001b[0m\u001b[0;34m'g'\u001b[0m\u001b[0;34m,\u001b[0m \u001b[0mNode\u001b[0m\u001b[0;34m(\u001b[0m\u001b[0;34m'y'\u001b[0m\u001b[0;34m)\u001b[0m\u001b[0;34m)\u001b[0m\u001b[0;34m\u001b[0m\u001b[0;34m\u001b[0m\u001b[0m\n\u001b[0m\u001b[1;32m      7\u001b[0m \u001b[0mprint\u001b[0m\u001b[0;34m(\u001b[0m\u001b[0ml1\u001b[0m\u001b[0;34m)\u001b[0m\u001b[0;34m\u001b[0m\u001b[0;34m\u001b[0m\u001b[0m\n",
      "\u001b[0;32m<ipython-input-93-f4fc16ea22c5>\u001b[0m in \u001b[0;36madd_after\u001b[0;34m(self, target_node_val, new_node)\u001b[0m\n\u001b[1;32m     48\u001b[0m                 \u001b[0;32mreturn\u001b[0m\u001b[0;34m\u001b[0m\u001b[0;34m\u001b[0m\u001b[0m\n\u001b[1;32m     49\u001b[0m \u001b[0;34m\u001b[0m\u001b[0m\n\u001b[0;32m---> 50\u001b[0;31m         \u001b[0;32mraise\u001b[0m \u001b[0mException\u001b[0m\u001b[0;34m(\u001b[0m\u001b[0;34m\"Node with value '%s' not found\"\u001b[0m \u001b[0;34m%\u001b[0m \u001b[0mtarget_node_val\u001b[0m\u001b[0;34m)\u001b[0m\u001b[0;34m\u001b[0m\u001b[0;34m\u001b[0m\u001b[0m\n\u001b[0m\u001b[1;32m     51\u001b[0m \u001b[0;34m\u001b[0m\u001b[0m\n\u001b[1;32m     52\u001b[0m     \u001b[0;32mdef\u001b[0m \u001b[0madd_before\u001b[0m\u001b[0;34m(\u001b[0m\u001b[0mself\u001b[0m\u001b[0;34m,\u001b[0m \u001b[0mtarget_node_val\u001b[0m\u001b[0;34m,\u001b[0m \u001b[0mnew_node\u001b[0m\u001b[0;34m)\u001b[0m\u001b[0;34m:\u001b[0m\u001b[0;34m\u001b[0m\u001b[0;34m\u001b[0m\u001b[0m\n",
      "\u001b[0;31mException\u001b[0m: Node with value 'g' not found"
     ]
    }
   ],
   "source": [
    "l1 = LinkedList(['a', 'b', 'c', 'd'])\n",
    "print(l1)\n",
    "l1.add_after('b', Node('x'))\n",
    "print(l1)\n",
    "\n",
    "l1.add_after('g', Node('y'))\n",
    "print(l1)"
   ]
  },
  {
   "cell_type": "code",
   "execution_count": 95,
   "metadata": {},
   "outputs": [
    {
     "name": "stdout",
     "output_type": "stream",
     "text": [
      "None\n"
     ]
    },
    {
     "ename": "Exception",
     "evalue": "List is empty",
     "output_type": "error",
     "traceback": [
      "\u001b[0;31m---------------------------------------------------------------------------\u001b[0m",
      "\u001b[0;31mException\u001b[0m                                 Traceback (most recent call last)",
      "\u001b[0;32m<ipython-input-95-5cecc704d77e>\u001b[0m in \u001b[0;36m<module>\u001b[0;34m\u001b[0m\n\u001b[1;32m      1\u001b[0m \u001b[0ml1\u001b[0m \u001b[0;34m=\u001b[0m \u001b[0mLinkedList\u001b[0m\u001b[0;34m(\u001b[0m\u001b[0;34m)\u001b[0m\u001b[0;34m\u001b[0m\u001b[0;34m\u001b[0m\u001b[0m\n\u001b[1;32m      2\u001b[0m \u001b[0mprint\u001b[0m\u001b[0;34m(\u001b[0m\u001b[0ml1\u001b[0m\u001b[0;34m)\u001b[0m\u001b[0;34m\u001b[0m\u001b[0;34m\u001b[0m\u001b[0m\n\u001b[0;32m----> 3\u001b[0;31m \u001b[0ml1\u001b[0m\u001b[0;34m.\u001b[0m\u001b[0madd_before\u001b[0m\u001b[0;34m(\u001b[0m\u001b[0;34m'a'\u001b[0m\u001b[0;34m,\u001b[0m \u001b[0mNode\u001b[0m\u001b[0;34m(\u001b[0m\u001b[0;34m'b'\u001b[0m\u001b[0;34m)\u001b[0m\u001b[0;34m)\u001b[0m\u001b[0;34m\u001b[0m\u001b[0;34m\u001b[0m\u001b[0m\n\u001b[0m\u001b[1;32m      4\u001b[0m \u001b[0mprint\u001b[0m\u001b[0;34m(\u001b[0m\u001b[0ml1\u001b[0m\u001b[0;34m)\u001b[0m\u001b[0;34m\u001b[0m\u001b[0;34m\u001b[0m\u001b[0m\n",
      "\u001b[0;32m<ipython-input-93-f4fc16ea22c5>\u001b[0m in \u001b[0;36madd_before\u001b[0;34m(self, target_node_val, new_node)\u001b[0m\n\u001b[1;32m     52\u001b[0m     \u001b[0;32mdef\u001b[0m \u001b[0madd_before\u001b[0m\u001b[0;34m(\u001b[0m\u001b[0mself\u001b[0m\u001b[0;34m,\u001b[0m \u001b[0mtarget_node_val\u001b[0m\u001b[0;34m,\u001b[0m \u001b[0mnew_node\u001b[0m\u001b[0;34m)\u001b[0m\u001b[0;34m:\u001b[0m\u001b[0;34m\u001b[0m\u001b[0;34m\u001b[0m\u001b[0m\n\u001b[1;32m     53\u001b[0m         \u001b[0;32mif\u001b[0m \u001b[0;32mnot\u001b[0m \u001b[0mself\u001b[0m\u001b[0;34m.\u001b[0m\u001b[0mhead\u001b[0m\u001b[0;34m:\u001b[0m\u001b[0;34m\u001b[0m\u001b[0;34m\u001b[0m\u001b[0m\n\u001b[0;32m---> 54\u001b[0;31m             \u001b[0;32mraise\u001b[0m \u001b[0mException\u001b[0m\u001b[0;34m(\u001b[0m\u001b[0;34m\"List is empty\"\u001b[0m\u001b[0;34m)\u001b[0m\u001b[0;34m\u001b[0m\u001b[0;34m\u001b[0m\u001b[0m\n\u001b[0m\u001b[1;32m     55\u001b[0m \u001b[0;34m\u001b[0m\u001b[0m\n\u001b[1;32m     56\u001b[0m         \u001b[0;31m#if we are doing add_before on the head of a linked list, we can reuse add_first\u001b[0m\u001b[0;34m\u001b[0m\u001b[0;34m\u001b[0m\u001b[0;34m\u001b[0m\u001b[0m\n",
      "\u001b[0;31mException\u001b[0m: List is empty"
     ]
    }
   ],
   "source": [
    "l1 = LinkedList()\n",
    "print(l1)\n",
    "l1.add_before('a', Node('b'))\n",
    "print(l1)"
   ]
  },
  {
   "cell_type": "code",
   "execution_count": 96,
   "metadata": {},
   "outputs": [
    {
     "name": "stdout",
     "output_type": "stream",
     "text": [
      "a -> b -> c -> d -> None\n",
      "a -> b -> c -> Y -> d -> None\n"
     ]
    }
   ],
   "source": [
    "l1 = LinkedList(['a', 'b', 'c', 'd'])\n",
    "print(l1)\n",
    "l1.add_before('d', Node('Y'))\n",
    "print(l1)"
   ]
  },
  {
   "cell_type": "code",
   "execution_count": 97,
   "metadata": {},
   "outputs": [],
   "source": [
    "#remove a node\n",
    "\n",
    "#this is also where the difference between a queue and stack comes in "
   ]
  },
  {
   "cell_type": "code",
   "execution_count": null,
   "metadata": {},
   "outputs": [],
   "source": [
    "#also added indexing via __getitem__ (which allows us to use class_instance[int] to index)\n",
    "'''\n",
    "def __getitem__(self, i):\n",
    "        nodes = []\n",
    "        node = self.head\n",
    "        while node is not None:\n",
    "            nodes.append(node.val)\n",
    "            node = node.next\n",
    "        return nodes[i]\n",
    "'''"
   ]
  },
  {
   "cell_type": "code",
   "execution_count": 141,
   "metadata": {},
   "outputs": [],
   "source": [
    "class LinkedList:\n",
    "    def __init__(self, nodes=None):\n",
    "        #pass a list of nodes (a list of values) and it will turn it into a linked list\n",
    "        self.head = None\n",
    "        if nodes is not None:\n",
    "            node = Node(val=nodes.pop(0)) #.pop(index) both returns the value of index and does an inplace removal of index\n",
    "            self.head = node\n",
    "            for elem in nodes:\n",
    "                node.next = Node(val=elem)\n",
    "                node = node.next\n",
    "\n",
    "    def __repr__(self):\n",
    "        node = self.head\n",
    "        nodes = []\n",
    "        while node is not None:\n",
    "            nodes.append(node.val)\n",
    "            node = node.next\n",
    "        nodes.append(\"None\")\n",
    "        return \" -> \".join(str(x) for x in nodes)\n",
    "    \n",
    "    def __iter__(self):\n",
    "        node = self.head\n",
    "        while node is not None:\n",
    "            yield node\n",
    "            node = node.next\n",
    "            \n",
    "    def __getitem__(self, i):\n",
    "        nodes = []\n",
    "        node = self.head\n",
    "        while node is not None:\n",
    "            nodes.append(node.val)\n",
    "            node = node.next\n",
    "        return nodes[i]\n",
    "        \n",
    "    \n",
    "    def add_first(self, node): #the arg 'node' should be an instance of the Node() (the node class)\n",
    "        node.next = self.head #we are setting node.next to the old self.head (the head of the list before we did the adding)\n",
    "        self.head = node #we set the new self.head to the new node\n",
    "\n",
    "    def add_last(self, node):\n",
    "        #if the linked list is empty and we use this, it will assign node to self.head\n",
    "        if not self.head:\n",
    "            self.head = node\n",
    "            return\n",
    "        #we have to loop through the linked list to get to the end \n",
    "        for current_node in self:\n",
    "            pass\n",
    "        current_node.next = node #since we pass an instance of the Node class as an arg, the Node.next is automatically None\n",
    "    \n",
    "    def add_after(self, target_node_val, new_node):\n",
    "        if not self.head:\n",
    "            raise Exception(\"List is empty\")\n",
    "        for node in self:\n",
    "            if node.val == target_node_val:\n",
    "                new_node.next = node.next #set new_node.next to node.next (updating the .next for the new node)\n",
    "                node.next = new_node #setting the value for the node as new_node\n",
    "                return\n",
    "        \n",
    "        raise Exception(\"Node with value '%s' not found\" % target_node_val)\n",
    "        \n",
    "    def add_before(self, target_node_val, new_node):\n",
    "        if not self.head:\n",
    "            raise Exception(\"List is empty\")\n",
    "        \n",
    "        #if we are doing add_before on the head of a linked list, we can reuse add_first\n",
    "        if self.head.val == target_node_val:\n",
    "            return self.add_first(new_node)\n",
    "        \n",
    "        #we use prev_node so we can change the .next's when we find the target_node_val\n",
    "        prev_node = self.head\n",
    "        for node in self:\n",
    "            if node.val == target_node_val:\n",
    "                prev_node.next = new_node\n",
    "                new_node.next = node\n",
    "                return\n",
    "            prev_node = node\n",
    "            \n",
    "        raise Exception(\"Node with value '%s' not found\" % target_node_val)  \n",
    "        \n",
    "    def remove_node(self, target_node_val):\n",
    "        if not self.head:\n",
    "            raise Exception(\"List is empty.\")\n",
    "        \n",
    "        #if we want to remove the head, we have to reassign self.head to the next node (self.head.next)\n",
    "        if self.head.val == target_node_val:\n",
    "            self.head = self.head.next\n",
    "            return\n",
    "        \n",
    "        #we want to loop through the linked list to find the target_node_val\n",
    "        #once we find it, we want to set prev_node.next to node.next\n",
    "        #this re-linking of the .next's removes the target node\n",
    "        prev_node = self.head\n",
    "        for node in self:\n",
    "            if node.val == target_node_val:\n",
    "                prev_node.next = node.next\n",
    "                return \n",
    "            prev_node = node\n",
    "            \n",
    "        raise Exception(\"Node with value '%s' not found\" % target_node_val)\n",
    "            \n",
    "        \n",
    "        \n",
    "class Node:\n",
    "    def __init__(self, val):\n",
    "        self.val = val\n",
    "        self.next = None\n",
    "        \n",
    "    def __repr__(self):\n",
    "        return self.val"
   ]
  },
  {
   "cell_type": "code",
   "execution_count": 146,
   "metadata": {},
   "outputs": [
    {
     "name": "stdout",
     "output_type": "stream",
     "text": [
      "a -> b -> c -> d -> None\n",
      "a -> b -> d -> None\n"
     ]
    }
   ],
   "source": [
    "l1 = LinkedList(['a', 'b', 'c', 'd'])\n",
    "print(l1)\n",
    "l1.remove_node('c')\n",
    "print(l1)"
   ]
  },
  {
   "cell_type": "code",
   "execution_count": 148,
   "metadata": {},
   "outputs": [
    {
     "data": {
      "text/plain": [
       "1"
      ]
     },
     "execution_count": 148,
     "metadata": {},
     "output_type": "execute_result"
    }
   ],
   "source": [
    "l4 = LinkedList([1, 2, 3])\n",
    "\n",
    "l5 = LinkedList([0])\n",
    "\n",
    "print(l1[1])\n",
    "print(l4[0])"
   ]
  }
 ],
 "metadata": {
  "kernelspec": {
   "display_name": "Python 3",
   "language": "python",
   "name": "python3"
  },
  "language_info": {
   "codemirror_mode": {
    "name": "ipython",
    "version": 3
   },
   "file_extension": ".py",
   "mimetype": "text/x-python",
   "name": "python",
   "nbconvert_exporter": "python",
   "pygments_lexer": "ipython3",
   "version": "3.7.1"
  }
 },
 "nbformat": 4,
 "nbformat_minor": 2
}
